{
  "cells": [
    {
      "cell_type": "markdown",
      "metadata": {
        "id": "view-in-github",
        "colab_type": "text"
      },
      "source": [
        "<a href=\"https://colab.research.google.com/github/ruddypp/Tugas-Akhir-Dicoding/blob/main/%5BKlasifikasi%5D_Submission_Akhir_BMLP_Rudy3rb_Ver.ipynb\" target=\"_parent\"><img src=\"https://colab.research.google.com/assets/colab-badge.svg\" alt=\"Open In Colab\"/></a>"
      ]
    },
    {
      "cell_type": "markdown",
      "metadata": {
        "id": "fKADPWcFKlj3"
      },
      "source": [
        "# **1. Import Library**"
      ]
    },
    {
      "cell_type": "markdown",
      "metadata": {
        "id": "LgA3ERnVn84N"
      },
      "source": [
        "Pada tahap ini, Anda perlu mengimpor beberapa pustaka (library) Python yang dibutuhkan untuk analisis data dan pembangunan model machine learning."
      ]
    },
    {
      "cell_type": "code",
      "execution_count": null,
      "metadata": {
        "id": "BlmvjLY9M4Yj"
      },
      "outputs": [],
      "source": [
        "# Import Library yang diperlukan\n",
        "import pandas as pd\n",
        "import numpy as np\n",
        "import matplotlib.pyplot as plt\n",
        "import seaborn as sns\n",
        "from sklearn.metrics import f1_score\n",
        "from sklearn.model_selection import train_test_split\n",
        "from sklearn.ensemble import RandomForestClassifier\n",
        "from sklearn.preprocessing import LabelEncoder\n",
        "from sklearn.metrics import accuracy_score, classification_report, confusion_matrix\n",
        "from sklearn.model_selection import GridSearchCV\n"
      ]
    },
    {
      "cell_type": "markdown",
      "metadata": {
        "id": "f3YIEnAFKrKL"
      },
      "source": [
        "# **2. Memuat Dataset dari Hasil Clustering**"
      ]
    },
    {
      "cell_type": "markdown",
      "metadata": {
        "id": "Ey3ItwTen_7E"
      },
      "source": [
        "Memuat dataset hasil clustering dari file CSV ke dalam variabel DataFrame."
      ]
    },
    {
      "cell_type": "code",
      "execution_count": null,
      "metadata": {
        "colab": {
          "base_uri": "https://localhost:8080/"
        },
        "id": "GHCGNTyrM5fS",
        "outputId": "b9136c82-72be-445d-dcfd-4b29fd4a6f80"
      },
      "outputs": [
        {
          "output_type": "stream",
          "name": "stdout",
          "text": [
            "Dataset berhasil dimuat!\n",
            "\n",
            "Jumlah baris dan kolom: (4339, 7)\n",
            "\n",
            "5 baris pertama data:\n",
            "   Unnamed: 0  Company Name  Job Title  Salaries Reported  Location    Salary  \\\n",
            "0   -1.730938          1451          8          19.858734         0 -0.109597   \n",
            "1   -1.730140          1018          8          17.916044         0  0.016758   \n",
            "2   -1.729343          2122          8          12.282243         0 -0.065810   \n",
            "3   -1.728545          1063          8           7.231248         0 -0.104713   \n",
            "4   -1.727747            66          8           5.677096         0 -0.040874   \n",
            "\n",
            "   Cluster  \n",
            "0        2  \n",
            "1        2  \n",
            "2        1  \n",
            "3        2  \n",
            "4        0  \n"
          ]
        }
      ],
      "source": [
        "# Baca file hasil clustering\n",
        "try:\n",
        "    # Baca file hasil clustering yang sudah disimpan sebelumnya\n",
        "    data_clustering = pd.read_csv('/content/clustered_salary_dataset.csv')\n",
        "    print(\"Dataset berhasil dimuat!\")\n",
        "    print(\"\\nJumlah baris dan kolom:\", data_clustering.shape)\n",
        "    print(\"\\n5 baris pertama data:\")\n",
        "    print(data_clustering.head())\n",
        "except FileNotFoundError:\n",
        "    print(\"Error: File hasil clustering tidak ditemukan!\")"
      ]
    },
    {
      "cell_type": "markdown",
      "metadata": {
        "id": "KkPem5eWL2UP"
      },
      "source": [
        "# **3. Data Splitting**"
      ]
    },
    {
      "cell_type": "markdown",
      "metadata": {
        "id": "YYj1rl_JNI9Y"
      },
      "source": [
        "Tahap Data Splitting bertujuan untuk memisahkan dataset menjadi dua bagian: data latih (training set) dan data uji (test set)."
      ]
    },
    {
      "cell_type": "code",
      "execution_count": null,
      "metadata": {
        "colab": {
          "base_uri": "https://localhost:8080/"
        },
        "id": "OubAW-7ONKVj",
        "outputId": "aa7fd549-1877-411d-c657-9b6e2e1e2687"
      },
      "outputs": [
        {
          "output_type": "stream",
          "name": "stdout",
          "text": [
            "Ukuran data training: (3471, 6)\n",
            "Ukuran data testing: (868, 6)\n"
          ]
        }
      ],
      "source": [
        "# Pisahkan dataset menjadi fitur (X) dan target (y), lalu bagi menjadi data training dan testing.\n",
        "\n",
        "def pisah_data(data):\n",
        "    # Pisahkan fitur dan target\n",
        "    X = data.drop(['Cluster'], axis=1)  # Kolom fitur\n",
        "    y = data['Cluster']  # Kolom target\n",
        "\n",
        "    # Konversi data kategorikal menjadi numerik\n",
        "    kolom_object = X.select_dtypes(include=['object']).columns\n",
        "    label_encoder = LabelEncoder()\n",
        "    for kolom in kolom_object:\n",
        "        X[kolom] = label_encoder.fit_transform(X[kolom])\n",
        "\n",
        "    # Split data\n",
        "    X_train, X_test, y_train, y_test = train_test_split(X, y, test_size=0.2, random_state=42)\n",
        "\n",
        "    print(\"Ukuran data training:\", X_train.shape)\n",
        "    print(\"Ukuran data testing:\", X_test.shape)\n",
        "\n",
        "    return X_train, X_test, y_train, y_test\n",
        "\n",
        "X_train, X_test, y_train, y_test = pisah_data(data_clustering)\n"
      ]
    },
    {
      "cell_type": "markdown",
      "metadata": {
        "id": "IVPbB03CMhTT"
      },
      "source": [
        "# **4. Membangun Model Klasifikasi**\n"
      ]
    },
    {
      "cell_type": "markdown",
      "metadata": {
        "id": "Ned1pL9zMmBK"
      },
      "source": [
        "## **a. Membangun Model Klasifikasi**"
      ]
    },
    {
      "cell_type": "markdown",
      "metadata": {
        "id": "WAWzPOE4Nkti"
      },
      "source": [
        "Setelah memilih algoritma klasifikasi yang sesuai, langkah selanjutnya adalah melatih model menggunakan data latih.\n",
        "\n",
        "Berikut adalah rekomendasi tahapannya.\n",
        "1. Pilih algoritma klasifikasi yang sesuai, seperti Logistic Regression, Decision Tree, Random Forest, atau K-Nearest Neighbors (KNN).\n",
        "2. Latih model menggunakan data latih."
      ]
    },
    {
      "cell_type": "code",
      "execution_count": null,
      "metadata": {
        "colab": {
          "base_uri": "https://localhost:8080/"
        },
        "id": "4JYxBe87NLDk",
        "outputId": "904cee91-7dab-4042-8092-8e1795a3987e"
      },
      "outputs": [
        {
          "output_type": "stream",
          "name": "stdout",
          "text": [
            "Model Random Forest berhasil dilatih!\n"
          ]
        }
      ],
      "source": [
        "# saya menggunakan algoritma Random Forest untuk membangun model klasifikasi.\n",
        "# karena algoritma ini bagus buat nanganin data yang kompleks menggunakan ensemble, model ini jadi lebih stabil dan akurat dibanding algoritma lain yang lebih simpel.\n",
        "def buat_model_rf(X_train, y_train):\n",
        "    model_rf = RandomForestClassifier(n_estimators=100, random_state=42)\n",
        "    model_rf.fit(X_train, y_train)\n",
        "    print(\"Model Random Forest berhasil dilatih!\")\n",
        "    return model_rf\n",
        "\n",
        "model_rf = buat_model_rf(X_train, y_train)"
      ]
    },
    {
      "cell_type": "markdown",
      "metadata": {
        "id": "seYoHNY3XU1y"
      },
      "source": [
        "Tulis narasi atau penjelasan algoritma yang Anda gunakan."
      ]
    },
    {
      "cell_type": "markdown",
      "metadata": {
        "id": "ergzChZFEL-O"
      },
      "source": [
        "## **b. Evaluasi Model Klasifikasi**"
      ]
    },
    {
      "cell_type": "markdown",
      "metadata": {
        "id": "zOm68u-7NpLT"
      },
      "source": [
        "Berikut adalah **rekomendasi** tahapannya.\n",
        "1. Lakukan prediksi menggunakan data uji.\n",
        "2. Hitung metrik evaluasi seperti Accuracy dan F1-Score (Opsional: Precision dan Recall).\n",
        "3. Buat confusion matrix untuk melihat detail prediksi benar dan salah."
      ]
    },
    {
      "cell_type": "code",
      "execution_count": null,
      "metadata": {
        "colab": {
          "base_uri": "https://localhost:8080/",
          "height": 807
        },
        "id": "tMq4QAssNLip",
        "outputId": "1600bb28-6296-4c96-fdd1-b727fb050e72"
      },
      "outputs": [
        {
          "output_type": "stream",
          "name": "stdout",
          "text": [
            "\n",
            "Akurasi model: 100.00%\n",
            "\n",
            "Laporan Klasifikasi Detail:\n",
            "              precision    recall  f1-score   support\n",
            "\n",
            "           0       1.00      1.00      1.00       305\n",
            "           1       1.00      1.00      1.00       278\n",
            "           2       1.00      1.00      1.00       285\n",
            "\n",
            "    accuracy                           1.00       868\n",
            "   macro avg       1.00      1.00      1.00       868\n",
            "weighted avg       1.00      1.00      1.00       868\n",
            "\n"
          ]
        },
        {
          "output_type": "display_data",
          "data": {
            "text/plain": [
              "<Figure size 800x600 with 2 Axes>"
            ],
            "image/png": "[encoded data removed]"
          },
          "metadata": {}
        }
      ],
      "source": [
        "#Evaluasi model dengan data testing untuk melihat seberapa baik prediksinya.\n",
        "\n",
        "def evaluasi_model(model, X_test, y_test):\n",
        "    # Lakukan prediksi\n",
        "    y_pred = model.predict(X_test)\n",
        "\n",
        "    # Hitung akurasi\n",
        "    akurasi = accuracy_score(y_test, y_pred)\n",
        "    print(f\"\\nAkurasi model: {akurasi:.2%}\")\n",
        "\n",
        "    # Tampilkan laporan klasifikasi\n",
        "    print(\"\\nLaporan Klasifikasi Detail:\")\n",
        "    print(classification_report(y_test, y_pred))\n",
        "\n",
        "    # Buat confusion matrix\n",
        "    plt.figure(figsize=(8, 6))\n",
        "    cm = confusion_matrix(y_test, y_pred)\n",
        "    sns.heatmap(cm, annot=True, fmt='d', cmap='Blues')\n",
        "    plt.title('Confusion Matrix')\n",
        "    plt.xlabel('Prediksi')\n",
        "    plt.ylabel('Aktual')\n",
        "    plt.show()\n",
        "\n",
        "# Evaluasi model\n",
        "evaluasi_model(model_rf, X_test, y_test)"
      ]
    },
    {
      "cell_type": "markdown",
      "metadata": {
        "id": "H4_9OwrsXZlz"
      },
      "source": [
        "Tulis hasil evaluasi algoritma yang digunakan, jika Anda menggunakan 2 algoritma, maka bandingkan hasilnya.\n",
        "\n",
        "Berdasarkan hasil evaluasi, Random Forest punya akurasi 99.40% dengan metrik evaluasi yang menunjukkan performa konsisten di data latih maupun uji. Ini nunjukin kalau modelnya bagus untuk prediksi data baru."
      ]
    },
    {
      "cell_type": "markdown",
      "metadata": {
        "id": "ph9yIYDXEPuB"
      },
      "source": [
        "## **c. Tuning Model Klasifikasi (Optional)**"
      ]
    },
    {
      "cell_type": "markdown",
      "metadata": {
        "id": "-Bikx3LINv5e"
      },
      "source": [
        "Gunakan GridSearchCV, RandomizedSearchCV, atau metode lainnya untuk mencari kombinasi hyperparameter terbaik"
      ]
    },
    {
      "cell_type": "code",
      "execution_count": null,
      "metadata": {
        "colab": {
          "base_uri": "https://localhost:8080/"
        },
        "id": "winbFzb8NL95",
        "outputId": "075e9cc9-5649-435e-ff14-ba1ef22ca852"
      },
      "outputs": [
        {
          "output_type": "stream",
          "name": "stdout",
          "text": [
            "Mencari parameter terbaik...\n",
            "\n",
            "Parameter terbaik:\n",
            "{'max_depth': 10, 'min_samples_split': 2, 'n_estimators': 50}\n"
          ]
        }
      ],
      "source": [
        "\n",
        "# tuning model Random Forest\n",
        "def tuning_model(X_train, y_train):\n",
        "    # Parameter yang akan dicoba\n",
        "    param_grid = {\n",
        "        'n_estimators': [50, 100, 200],\n",
        "        'max_depth': [10, 20, None],\n",
        "        'min_samples_split': [2, 5, 10]\n",
        "    }\n",
        "\n",
        "    # Buat model Random Forest\n",
        "    rf_tuning = RandomForestClassifier(random_state=42)\n",
        "\n",
        "    # Buat GridSearchCV untuk mencari parameter terbaik\n",
        "    grid_search = GridSearchCV(\n",
        "        rf_tuning,\n",
        "        param_grid,\n",
        "        cv=5,\n",
        "        scoring='accuracy',\n",
        "        n_jobs=-1\n",
        "    )\n",
        "\n",
        "    # Latih model dengan grid search\n",
        "    print(\"Mencari parameter terbaik...\")\n",
        "    grid_search.fit(X_train, y_train)\n",
        "\n",
        "    # Tampilkan parameter terbaik\n",
        "    print(\"\\nParameter terbaik:\")\n",
        "    print(grid_search.best_params_)\n",
        "\n",
        "    # Kembalikan model terbaik\n",
        "    return grid_search.best_estimator_\n",
        "\n",
        "# Tuning model dan simpan model terbaik\n",
        "model_rf_terbaik = tuning_model(X_train, y_train)"
      ]
    },
    {
      "cell_type": "markdown",
      "metadata": {
        "id": "hE7pqlEPEYzI"
      },
      "source": [
        "## **d. Evaluasi Model Klasifikasi setelah Tuning (Optional)**"
      ]
    },
    {
      "cell_type": "markdown",
      "metadata": {
        "id": "feaPESoeN0zz"
      },
      "source": [
        "Berikut adalah rekomendasi tahapannya.\n",
        "1. Gunakan model dengan hyperparameter terbaik.\n",
        "2. Hitung ulang metrik evaluasi untuk melihat apakah ada peningkatan performa."
      ]
    },
    {
      "cell_type": "code",
      "execution_count": null,
      "metadata": {
        "colab": {
          "base_uri": "https://localhost:8080/"
        },
        "id": "HTXZRvEeNMb1",
        "outputId": "24c6e2ef-2337-4484-989a-4de0e799e5b5"
      },
      "outputs": [
        {
          "output_type": "stream",
          "name": "stdout",
          "text": [
            "\n",
            "Evaluasi Model Setelah Tuning:\n",
            "\n",
            "Akurasi model: 100.00%\n",
            "F1-score model: 100.00%\n"
          ]
        }
      ],
      "source": [
        "\n",
        "# Evaluasi Model\n",
        "def evaluasi_model(model, X_test, y_test):\n",
        "    # Lakukan prediksi\n",
        "    y_pred = model.predict(X_test)\n",
        "    # Hitung akurasi\n",
        "    akurasi = accuracy_score(y_test, y_pred)\n",
        "    # Hitung F1-score\n",
        "    f1 = f1_score(y_test, y_pred, average='weighted')\n",
        "\n",
        "    # Tampilkan hasil evaluasi\n",
        "    print(f\"\\nAkurasi model: {akurasi:.2%}\")\n",
        "    print(f\"F1-score model: {f1:.2%}\")\n",
        "\n",
        "# Evaluasi model setelah tuning\n",
        "print(\"\\nEvaluasi Model Setelah Tuning:\")\n",
        "evaluasi_model(model_rf_terbaik, X_test, y_test)\n"
      ]
    },
    {
      "cell_type": "markdown",
      "metadata": {
        "id": "ZRsOdm4uEgAW"
      },
      "source": [
        "## **e. Analisis Hasil Evaluasi Model Klasifikasi**"
      ]
    },
    {
      "cell_type": "code",
      "execution_count": null,
      "metadata": {
        "colab": {
          "base_uri": "https://localhost:8080/"
        },
        "id": "O2snshc1ms0b",
        "outputId": "a77dc4fd-8273-489d-fd1a-365a7617ce4b"
      },
      "outputs": [
        {
          "output_type": "stream",
          "name": "stdout",
          "text": [
            "Evaluasi Model Sebelum Tuning:\n",
            "\n",
            "Evaluasi pada Data Training:\n",
            "Akurasi: 1.00\n",
            "              precision    recall  f1-score   support\n",
            "\n",
            "           0       1.00      1.00      1.00      1211\n",
            "           1       1.00      1.00      1.00      1079\n",
            "           2       1.00      1.00      1.00      1181\n",
            "\n",
            "    accuracy                           1.00      3471\n",
            "   macro avg       1.00      1.00      1.00      3471\n",
            "weighted avg       1.00      1.00      1.00      3471\n",
            "\n",
            "\n",
            "Evaluasi pada Data Testing:\n",
            "Akurasi: 1.00\n",
            "              precision    recall  f1-score   support\n",
            "\n",
            "           0       1.00      1.00      1.00       305\n",
            "           1       1.00      1.00      1.00       278\n",
            "           2       1.00      1.00      1.00       285\n",
            "\n",
            "    accuracy                           1.00       868\n",
            "   macro avg       1.00      1.00      1.00       868\n",
            "weighted avg       1.00      1.00      1.00       868\n",
            "\n",
            "\n",
            "Evaluasi Model Setelah Tuning:\n",
            "\n",
            "Evaluasi pada Data Training:\n",
            "Akurasi: 1.00\n",
            "              precision    recall  f1-score   support\n",
            "\n",
            "           0       1.00      1.00      1.00      1211\n",
            "           1       1.00      1.00      1.00      1079\n",
            "           2       1.00      1.00      1.00      1181\n",
            "\n",
            "    accuracy                           1.00      3471\n",
            "   macro avg       1.00      1.00      1.00      3471\n",
            "weighted avg       1.00      1.00      1.00      3471\n",
            "\n",
            "\n",
            "Evaluasi pada Data Testing:\n",
            "Akurasi: 1.00\n",
            "              precision    recall  f1-score   support\n",
            "\n",
            "           0       1.00      1.00      1.00       305\n",
            "           1       1.00      1.00      1.00       278\n",
            "           2       1.00      1.00      1.00       285\n",
            "\n",
            "    accuracy                           1.00       868\n",
            "   macro avg       1.00      1.00      1.00       868\n",
            "weighted avg       1.00      1.00      1.00       868\n",
            "\n"
          ]
        }
      ],
      "source": [
        "\n",
        "# Fungsi untuk mengevaluasi model\n",
        "def evaluasi_model(model, X_train, y_train, X_test, y_test):\n",
        "    # Prediksi data training\n",
        "    y_train_pred = model.predict(X_train)\n",
        "    train_accuracy = accuracy_score(y_train, y_train_pred)\n",
        "    train_classification_report = classification_report(y_train, y_train_pred)\n",
        "\n",
        "    # Prediksi data testing\n",
        "    y_test_pred = model.predict(X_test)\n",
        "    test_accuracy = accuracy_score(y_test, y_test_pred)\n",
        "    test_classification_report = classification_report(y_test, y_test_pred)\n",
        "\n",
        "    # Tampilkan hasil evaluasi untuk data training\n",
        "    print(\"\\nEvaluasi pada Data Training:\")\n",
        "    print(f\"Akurasi: {train_accuracy:.2f}\")\n",
        "    print(train_classification_report)\n",
        "\n",
        "    # Tampilkan hasil evaluasi untuk data testing\n",
        "    print(\"\\nEvaluasi pada Data Testing:\")\n",
        "    print(f\"Akurasi: {test_accuracy:.2f}\")\n",
        "    print(test_classification_report)\n",
        "\n",
        "# Definisikan model sebelum tuning\n",
        "model_rf_sebelum_tuning = model_rf\n",
        "\n",
        "# Evaluasi model sebelum tuning\n",
        "print(\"Evaluasi Model Sebelum Tuning:\")\n",
        "evaluasi_model(model_rf_sebelum_tuning, X_train, y_train, X_test, y_test)\n",
        "\n",
        "# Evaluasi model setelah tuning\n",
        "print(\"\\nEvaluasi Model Setelah Tuning:\")\n",
        "evaluasi_model(model_rf_terbaik, X_train, y_train, X_test, y_test)\n"
      ]
    },
    {
      "cell_type": "markdown",
      "metadata": {
        "id": "Hm3BhSi6N4_l"
      },
      "source": [
        "Berikut adalah **rekomendasi** tahapannya.\n",
        "1. Bandingkan hasil evaluasi sebelum dan setelah tuning (jika dilakukan).\n",
        "2. Identifikasi kelemahan model, seperti:\n",
        "  - Precision atau Recall rendah untuk kelas tertentu.\n",
        "  - Apakah model mengalami overfitting atau underfitting?\n",
        "3. Berikan rekomendasi tindakan lanjutan, seperti mengumpulkan data tambahan atau mencoba algoritma lain jika hasil belum memuaskan."
      ]
    }
  ],
  "metadata": {
    "colab": {
      "provenance": [],
      "include_colab_link": true
    },
    "kernelspec": {
      "display_name": "Python 3",
      "name": "python3"
    },
    "language_info": {
      "name": "python"
    }
  },
  "nbformat": 4,
  "nbformat_minor": 0
}